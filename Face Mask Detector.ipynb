{
 "cells": [
  {
   "cell_type": "code",
   "execution_count": 2,
   "metadata": {},
   "outputs": [
    {
     "name": "stdout",
     "output_type": "stream",
     "text": [
      "Found 10000 images belonging to 2 classes.\n",
      "Found 992 images belonging to 2 classes.\n",
      "Epoch 1/20\n",
      "100/100 [==============================] - 147s 1s/step - loss: 0.2052 - accuracy: 0.9149 - val_loss: 0.2012 - val_accuracy: 0.9194\n",
      "Epoch 2/20\n",
      "100/100 [==============================] - 148s 1s/step - loss: 0.1486 - accuracy: 0.9463 - val_loss: 0.1657 - val_accuracy: 0.9355\n",
      "Epoch 3/20\n",
      "100/100 [==============================] - 144s 1s/step - loss: 0.1305 - accuracy: 0.9494 - val_loss: 0.1118 - val_accuracy: 0.9577\n",
      "Epoch 4/20\n",
      "100/100 [==============================] - 144s 1s/step - loss: 0.1134 - accuracy: 0.9563 - val_loss: 0.0947 - val_accuracy: 0.9688\n",
      "Epoch 5/20\n",
      "100/100 [==============================] - 144s 1s/step - loss: 0.1102 - accuracy: 0.9582 - val_loss: 0.0890 - val_accuracy: 0.9657\n",
      "Epoch 6/20\n",
      "100/100 [==============================] - 145s 1s/step - loss: 0.1165 - accuracy: 0.9572 - val_loss: 0.0947 - val_accuracy: 0.9647\n",
      "Epoch 7/20\n",
      "100/100 [==============================] - 144s 1s/step - loss: 0.1003 - accuracy: 0.9656 - val_loss: 0.0846 - val_accuracy: 0.9667\n",
      "Epoch 8/20\n",
      "100/100 [==============================] - 144s 1s/step - loss: 0.1051 - accuracy: 0.9614 - val_loss: 0.0849 - val_accuracy: 0.9708\n",
      "Epoch 9/20\n",
      "100/100 [==============================] - 145s 1s/step - loss: 0.1046 - accuracy: 0.9611 - val_loss: 0.0833 - val_accuracy: 0.9758\n",
      "Epoch 10/20\n",
      "100/100 [==============================] - 144s 1s/step - loss: 0.0931 - accuracy: 0.9655 - val_loss: 0.0879 - val_accuracy: 0.9637\n",
      "Epoch 11/20\n",
      "100/100 [==============================] - 122s 1s/step - loss: 0.1047 - accuracy: 0.9609 - val_loss: 0.0702 - val_accuracy: 0.9788\n",
      "Epoch 12/20\n",
      "100/100 [==============================] - 89s 890ms/step - loss: 0.0831 - accuracy: 0.9691 - val_loss: 0.0757 - val_accuracy: 0.9728\n",
      "Epoch 13/20\n",
      "100/100 [==============================] - 88s 883ms/step - loss: 0.0866 - accuracy: 0.9702 - val_loss: 0.0759 - val_accuracy: 0.9708\n",
      "Epoch 14/20\n",
      "100/100 [==============================] - 89s 885ms/step - loss: 0.0860 - accuracy: 0.9678 - val_loss: 0.0774 - val_accuracy: 0.9667\n",
      "Epoch 15/20\n",
      "100/100 [==============================] - 88s 883ms/step - loss: 0.0863 - accuracy: 0.9695 - val_loss: 0.0799 - val_accuracy: 0.9718\n",
      "Epoch 16/20\n",
      "100/100 [==============================] - 89s 887ms/step - loss: 0.0803 - accuracy: 0.9684 - val_loss: 0.0659 - val_accuracy: 0.9728\n",
      "Epoch 17/20\n",
      "100/100 [==============================] - 88s 884ms/step - loss: 0.0795 - accuracy: 0.9714 - val_loss: 0.0705 - val_accuracy: 0.9758\n",
      "Epoch 18/20\n",
      "100/100 [==============================] - 88s 884ms/step - loss: 0.0877 - accuracy: 0.9664 - val_loss: 0.0728 - val_accuracy: 0.9758\n",
      "Epoch 19/20\n",
      "100/100 [==============================] - 89s 887ms/step - loss: 0.1076 - accuracy: 0.9650 - val_loss: 0.0768 - val_accuracy: 0.9718\n",
      "Epoch 20/20\n",
      "100/100 [==============================] - 89s 889ms/step - loss: 0.0756 - accuracy: 0.9737 - val_loss: 0.0729 - val_accuracy: 0.9748\n"
     ]
    }
   ],
   "source": [
    "import pandas as pd\n",
    "import os\n",
    "from tensorflow.keras.preprocessing.image import ImageDataGenerator\n",
    "\n",
    "train_dir = \"/home/rahul/Downloads/675484_1187790_bundle_archive/Face Mask Dataset/Train\"\n",
    "test_dir=\"/home/rahul/Downloads/675484_1187790_bundle_archive/Face Mask Dataset/Test\"\n",
    "\n",
    "\n",
    "train_with_mask= train_dir +\"/WithMask\"\n",
    "test_with_mask=test_dir + \"/WithMask\"\n",
    "train_without_mask= train_dir + \"/WithoutMask\"\n",
    "test_without_mask= test_dir +\"/WithoutMask\"\n",
    "\n",
    "\n",
    "# To convert RGB images into array of numbers\n",
    "data_generator = ImageDataGenerator(rescale = 1.0/255.0, zoom_range = 0.2)  \n",
    "\n",
    "\n",
    "batch_size = 32\n",
    "training_data = data_generator.flow_from_directory(directory = train_dir,\n",
    "                                                   target_size = (64, 64),\n",
    "                                                   batch_size = batch_size,\n",
    "                                                   class_mode = 'binary')\n",
    "testing_data = data_generator.flow_from_directory(directory = test_dir,\n",
    "                                                  target_size = (64, 64),\n",
    "                                                  batch_size = batch_size,\n",
    "                                                  class_mode = 'binary')\n",
    "\n",
    "\n",
    "from tensorflow.keras.applications import vgg16\n",
    "\n",
    "vgg_conv = vgg16.VGG16(weights='imagenet', include_top=False, input_shape= training_data.image_shape)\n",
    "\n",
    "from keras import layers, models, optimizers\n",
    "model = models.Sequential()\n",
    "model.add(vgg_conv)\n",
    "model.add(layers.Flatten())\n",
    "model.add(layers.Dropout(0.5))\n",
    "model.add(layers.Dense(256, activation='relu'))\n",
    "model.add(layers.Dense(256, activation='relu'))\n",
    "model.add(layers.Dense(256, activation='relu'))\n",
    "model.add(layers.Dense(1, activation='sigmoid'))\n",
    "\n",
    "vgg_conv.trainable = False\n",
    "\n",
    "model.compile(optimizer = 'adam', loss = 'binary_crossentropy', metrics = ['accuracy'])\n",
    "\n",
    "history = model.fit(training_data,\n",
    "                        steps_per_epoch = 100,\n",
    "                        epochs = 20,\n",
    "                        validation_data = testing_data,\n",
    "                        validation_steps = int(1000/batch_size)\n",
    "                             )\n",
    "\n"
   ]
  },
  {
   "cell_type": "code",
   "execution_count": 3,
   "metadata": {},
   "outputs": [
    {
     "name": "stdout",
     "output_type": "stream",
     "text": [
      "WARNING:tensorflow:From /home/rahul/.local/lib/python3.6/site-packages/tensorflow/python/ops/resource_variable_ops.py:1817: calling BaseResourceVariable.__init__ (from tensorflow.python.ops.resource_variable_ops) with constraint is deprecated and will be removed in a future version.\n",
      "Instructions for updating:\n",
      "If using Keras pass *_constraint arguments to layers.\n",
      "INFO:tensorflow:Assets written to: face_mask.tf/assets\n"
     ]
    }
   ],
   "source": [
    "model.save(\"face_mask.tf\")"
   ]
  },
  {
   "cell_type": "code",
   "execution_count": 17,
   "metadata": {},
   "outputs": [
    {
     "name": "stdout",
     "output_type": "stream",
     "text": [
      "[[0.]]\n"
     ]
    },
    {
     "data": {
      "text/plain": [
       "'With Mask'"
      ]
     },
     "execution_count": 17,
     "metadata": {},
     "output_type": "execute_result"
    }
   ],
   "source": [
    "testing_image(\"/home/rahul/Downloads/675484_1187790_bundle_archive/Face Mask Dataset/Test/WithMask/51.png\")"
   ]
  },
  {
   "cell_type": "code",
   "execution_count": 9,
   "metadata": {},
   "outputs": [],
   "source": [
    "from tensorflow.keras.preprocessing import image\n",
    "import numpy as np\n",
    "def testing_image(image_directory):\n",
    "    test_image = image.load_img(image_directory, target_size = (64, 64))\n",
    "    test_image = image.img_to_array(test_image)\n",
    "    test_image = np.expand_dims(test_image, axis = 0)\n",
    "    result = model.predict(x = test_image)\n",
    "    print(result)\n",
    "    if result[0][0]  == 1:\n",
    "        prediction = 'Without Mask'\n",
    "    else:\n",
    "        prediction = 'With Mask'\n",
    "    return prediction\n",
    "\n"
   ]
  },
  {
   "cell_type": "code",
   "execution_count": null,
   "metadata": {},
   "outputs": [],
   "source": []
  }
 ],
 "metadata": {
  "kernelspec": {
   "display_name": "Python 3",
   "language": "python",
   "name": "python3"
  },
  "language_info": {
   "codemirror_mode": {
    "name": "ipython",
    "version": 3
   },
   "file_extension": ".py",
   "mimetype": "text/x-python",
   "name": "python",
   "nbconvert_exporter": "python",
   "pygments_lexer": "ipython3",
   "version": "3.6.9"
  }
 },
 "nbformat": 4,
 "nbformat_minor": 2
}
